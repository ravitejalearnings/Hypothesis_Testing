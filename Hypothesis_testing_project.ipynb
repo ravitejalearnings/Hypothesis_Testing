{
 "cells": [
  {
   "cell_type": "markdown",
   "id": "370a8db3-24be-4dd7-bfc7-e8503d46bd8d",
   "metadata": {},
   "source": [
    "# Hypothesis Testing using Statstical Methods"
   ]
  },
  {
   "cell_type": "markdown",
   "id": "c1a2c067-b3b1-4b42-8fd8-779b6d00ebda",
   "metadata": {},
   "source": [
    "# Problem Statement\n",
    "\n",
    "In the fast-paced taxi booking sector, making the most of revenue is essential for long-term success and driver happiness.\n",
    "Our goal is to use data-driven insights to maximise revenue streams for taxi drivers in order to meet this need. \n",
    "Our research aims to determine whether payment methods have an impact on fare pricing by focusing on the relationship between payment type and fare amount."
   ]
  },
  {
   "cell_type": "markdown",
   "id": "360d2810-e7c0-4ca8-ae81-93739cdd462e",
   "metadata": {},
   "source": [
    "# Research Question\n",
    "\n",
    "Is there a relationship between total fare amount and payment type?\n",
    "Can we nudge customers towards payment methods that generate higher revenue for drivers, without negatively impacting customer experience?"
   ]
  },
  {
   "cell_type": "markdown",
   "id": "858fd4ce-5226-43f8-a41e-6678b7e5f4c8",
   "metadata": {},
   "source": [
    "# Load Libraries"
   ]
  },
  {
   "cell_type": "code",
   "execution_count": 263,
   "id": "ec5d031a-6ff2-47ce-a933-c9adfc3659dd",
   "metadata": {},
   "outputs": [],
   "source": [
    "import pandas as pd\n",
    "import numpy as np\n",
    "import matplotlib.pyplot as plt\n",
    "import seaborn as sns\n",
    "import scipy.stats as st\n",
    "import warnings\n",
    "import statsmodels.api as sm\n",
    "warnings.filterwarnings('ignore')"
   ]
  },
  {
   "cell_type": "markdown",
   "id": "e7e7f659-f2b2-4eef-9f08-b5303c751300",
   "metadata": {},
   "source": [
    "# Load data"
   ]
  },
  {
   "cell_type": "code",
   "execution_count": 2,
   "id": "c5a48d00-bdd2-4478-9fc1-70424de02d90",
   "metadata": {},
   "outputs": [
    {
     "data": {
      "text/html": [
       "<div>\n",
       "<style scoped>\n",
       "    .dataframe tbody tr th:only-of-type {\n",
       "        vertical-align: middle;\n",
       "    }\n",
       "\n",
       "    .dataframe tbody tr th {\n",
       "        vertical-align: top;\n",
       "    }\n",
       "\n",
       "    .dataframe thead th {\n",
       "        text-align: right;\n",
       "    }\n",
       "</style>\n",
       "<table border=\"1\" class=\"dataframe\">\n",
       "  <thead>\n",
       "    <tr style=\"text-align: right;\">\n",
       "      <th></th>\n",
       "      <th>VendorID</th>\n",
       "      <th>tpep_pickup_datetime</th>\n",
       "      <th>tpep_dropoff_datetime</th>\n",
       "      <th>passenger_count</th>\n",
       "      <th>trip_distance</th>\n",
       "      <th>RatecodeID</th>\n",
       "      <th>store_and_fwd_flag</th>\n",
       "      <th>PULocationID</th>\n",
       "      <th>DOLocationID</th>\n",
       "      <th>payment_type</th>\n",
       "      <th>fare_amount</th>\n",
       "      <th>extra</th>\n",
       "      <th>mta_tax</th>\n",
       "      <th>tip_amount</th>\n",
       "      <th>tolls_amount</th>\n",
       "      <th>improvement_surcharge</th>\n",
       "      <th>total_amount</th>\n",
       "      <th>congestion_surcharge</th>\n",
       "    </tr>\n",
       "  </thead>\n",
       "  <tbody>\n",
       "    <tr>\n",
       "      <th>0</th>\n",
       "      <td>1.0</td>\n",
       "      <td>01/01/2021 12:30:10 AM</td>\n",
       "      <td>01/01/2021 12:36:12 AM</td>\n",
       "      <td>1.0</td>\n",
       "      <td>2.10</td>\n",
       "      <td>1.0</td>\n",
       "      <td>N</td>\n",
       "      <td>142</td>\n",
       "      <td>43</td>\n",
       "      <td>2.0</td>\n",
       "      <td>8.0</td>\n",
       "      <td>3.0</td>\n",
       "      <td>0.5</td>\n",
       "      <td>0.00</td>\n",
       "      <td>0.0</td>\n",
       "      <td>0.3</td>\n",
       "      <td>11.80</td>\n",
       "      <td>2.5</td>\n",
       "    </tr>\n",
       "    <tr>\n",
       "      <th>1</th>\n",
       "      <td>1.0</td>\n",
       "      <td>01/01/2021 12:51:20 AM</td>\n",
       "      <td>01/01/2021 12:52:19 AM</td>\n",
       "      <td>1.0</td>\n",
       "      <td>0.20</td>\n",
       "      <td>1.0</td>\n",
       "      <td>N</td>\n",
       "      <td>238</td>\n",
       "      <td>151</td>\n",
       "      <td>2.0</td>\n",
       "      <td>3.0</td>\n",
       "      <td>0.5</td>\n",
       "      <td>0.5</td>\n",
       "      <td>0.00</td>\n",
       "      <td>0.0</td>\n",
       "      <td>0.3</td>\n",
       "      <td>4.30</td>\n",
       "      <td>0.0</td>\n",
       "    </tr>\n",
       "    <tr>\n",
       "      <th>2</th>\n",
       "      <td>1.0</td>\n",
       "      <td>01/01/2021 12:43:30 AM</td>\n",
       "      <td>01/01/2021 01:11:06 AM</td>\n",
       "      <td>1.0</td>\n",
       "      <td>14.70</td>\n",
       "      <td>1.0</td>\n",
       "      <td>N</td>\n",
       "      <td>132</td>\n",
       "      <td>165</td>\n",
       "      <td>1.0</td>\n",
       "      <td>42.0</td>\n",
       "      <td>0.5</td>\n",
       "      <td>0.5</td>\n",
       "      <td>8.65</td>\n",
       "      <td>0.0</td>\n",
       "      <td>0.3</td>\n",
       "      <td>51.95</td>\n",
       "      <td>0.0</td>\n",
       "    </tr>\n",
       "    <tr>\n",
       "      <th>3</th>\n",
       "      <td>1.0</td>\n",
       "      <td>01/01/2021 12:15:48 AM</td>\n",
       "      <td>01/01/2021 12:31:01 AM</td>\n",
       "      <td>0.0</td>\n",
       "      <td>10.60</td>\n",
       "      <td>1.0</td>\n",
       "      <td>N</td>\n",
       "      <td>138</td>\n",
       "      <td>132</td>\n",
       "      <td>1.0</td>\n",
       "      <td>29.0</td>\n",
       "      <td>0.5</td>\n",
       "      <td>0.5</td>\n",
       "      <td>6.05</td>\n",
       "      <td>0.0</td>\n",
       "      <td>0.3</td>\n",
       "      <td>36.35</td>\n",
       "      <td>0.0</td>\n",
       "    </tr>\n",
       "    <tr>\n",
       "      <th>4</th>\n",
       "      <td>2.0</td>\n",
       "      <td>01/01/2021 12:31:49 AM</td>\n",
       "      <td>01/01/2021 12:48:21 AM</td>\n",
       "      <td>1.0</td>\n",
       "      <td>4.94</td>\n",
       "      <td>1.0</td>\n",
       "      <td>N</td>\n",
       "      <td>68</td>\n",
       "      <td>33</td>\n",
       "      <td>1.0</td>\n",
       "      <td>16.5</td>\n",
       "      <td>0.5</td>\n",
       "      <td>0.5</td>\n",
       "      <td>4.06</td>\n",
       "      <td>0.0</td>\n",
       "      <td>0.3</td>\n",
       "      <td>24.36</td>\n",
       "      <td>2.5</td>\n",
       "    </tr>\n",
       "  </tbody>\n",
       "</table>\n",
       "</div>"
      ],
      "text/plain": [
       "   VendorID    tpep_pickup_datetime   tpep_dropoff_datetime  passenger_count  \\\n",
       "0       1.0  01/01/2021 12:30:10 AM  01/01/2021 12:36:12 AM              1.0   \n",
       "1       1.0  01/01/2021 12:51:20 AM  01/01/2021 12:52:19 AM              1.0   \n",
       "2       1.0  01/01/2021 12:43:30 AM  01/01/2021 01:11:06 AM              1.0   \n",
       "3       1.0  01/01/2021 12:15:48 AM  01/01/2021 12:31:01 AM              0.0   \n",
       "4       2.0  01/01/2021 12:31:49 AM  01/01/2021 12:48:21 AM              1.0   \n",
       "\n",
       "   trip_distance  RatecodeID store_and_fwd_flag  PULocationID  DOLocationID  \\\n",
       "0           2.10         1.0                  N           142            43   \n",
       "1           0.20         1.0                  N           238           151   \n",
       "2          14.70         1.0                  N           132           165   \n",
       "3          10.60         1.0                  N           138           132   \n",
       "4           4.94         1.0                  N            68            33   \n",
       "\n",
       "   payment_type  fare_amount  extra  mta_tax  tip_amount  tolls_amount  \\\n",
       "0           2.0          8.0    3.0      0.5        0.00           0.0   \n",
       "1           2.0          3.0    0.5      0.5        0.00           0.0   \n",
       "2           1.0         42.0    0.5      0.5        8.65           0.0   \n",
       "3           1.0         29.0    0.5      0.5        6.05           0.0   \n",
       "4           1.0         16.5    0.5      0.5        4.06           0.0   \n",
       "\n",
       "   improvement_surcharge  total_amount  congestion_surcharge  \n",
       "0                    0.3         11.80                   2.5  \n",
       "1                    0.3          4.30                   0.0  \n",
       "2                    0.3         51.95                   0.0  \n",
       "3                    0.3         36.35                   0.0  \n",
       "4                    0.3         24.36                   2.5  "
      ]
     },
     "execution_count": 2,
     "metadata": {},
     "output_type": "execute_result"
    }
   ],
   "source": [
    "file_path = (r\"C:\\Users\\aravit01\\OneDrive - Kearney\\1. RAVI TEJA\\datasets\\2021_Yellow_Taxi_Trip_Data.csv\")\n",
    "\n",
    "df = pd.read_csv(file_path)\n",
    "df.head()"
   ]
  },
  {
   "cell_type": "markdown",
   "id": "ce72d5be-d3bf-40b2-a79d-521ad4c4d47c",
   "metadata": {},
   "source": [
    "# Basic understanding of data"
   ]
  },
  {
   "cell_type": "code",
   "execution_count": 3,
   "id": "0544ae65-3a30-4b0a-a0d8-96875cef15f3",
   "metadata": {},
   "outputs": [
    {
     "data": {
      "text/plain": [
       "(30904072, 18)"
      ]
     },
     "execution_count": 3,
     "metadata": {},
     "output_type": "execute_result"
    }
   ],
   "source": [
    "df.shape"
   ]
  },
  {
   "cell_type": "code",
   "execution_count": 5,
   "id": "94ff31f4-d460-4ab5-8e9a-ffe70e1026ac",
   "metadata": {
    "scrolled": true
   },
   "outputs": [
    {
     "name": "stdout",
     "output_type": "stream",
     "text": [
      "<class 'pandas.core.frame.DataFrame'>\n",
      "RangeIndex: 30904072 entries, 0 to 30904071\n",
      "Data columns (total 18 columns):\n",
      " #   Column                 Dtype  \n",
      "---  ------                 -----  \n",
      " 0   VendorID               float64\n",
      " 1   tpep_pickup_datetime   object \n",
      " 2   tpep_dropoff_datetime  object \n",
      " 3   passenger_count        float64\n",
      " 4   trip_distance          float64\n",
      " 5   RatecodeID             float64\n",
      " 6   store_and_fwd_flag     object \n",
      " 7   PULocationID           int64  \n",
      " 8   DOLocationID           int64  \n",
      " 9   payment_type           float64\n",
      " 10  fare_amount            float64\n",
      " 11  extra                  float64\n",
      " 12  mta_tax                float64\n",
      " 13  tip_amount             float64\n",
      " 14  tolls_amount           float64\n",
      " 15  improvement_surcharge  float64\n",
      " 16  total_amount           float64\n",
      " 17  congestion_surcharge   float64\n",
      "dtypes: float64(13), int64(2), object(3)\n",
      "memory usage: 4.1+ GB\n"
     ]
    }
   ],
   "source": [
    "df.info()"
   ]
  },
  {
   "cell_type": "code",
   "execution_count": 226,
   "id": "df545802-24a0-4461-a8f7-2d769a872b60",
   "metadata": {},
   "outputs": [
    {
     "data": {
      "text/plain": [
       "VendorID                   834028\n",
       "tpep_pickup_datetime     30894072\n",
       "tpep_dropoff_datetime    30894072\n",
       "passenger_count           1478695\n",
       "trip_distance                   0\n",
       "RatecodeID                1478695\n",
       "store_and_fwd_flag        1478695\n",
       "PULocationID                    0\n",
       "DOLocationID                    0\n",
       "payment_type               834028\n",
       "fare_amount                     0\n",
       "extra                           0\n",
       "mta_tax                         0\n",
       "tip_amount                      0\n",
       "tolls_amount                    0\n",
       "improvement_surcharge           0\n",
       "total_amount                    0\n",
       "congestion_surcharge       644667\n",
       "dtype: int64"
      ]
     },
     "execution_count": 226,
     "metadata": {},
     "output_type": "execute_result"
    }
   ],
   "source": [
    "df.isna().sum()"
   ]
  },
  {
   "cell_type": "markdown",
   "id": "4cb54382-d1c9-4a94-8fa0-5c97a7d4d87c",
   "metadata": {},
   "source": [
    "## data type conversion"
   ]
  },
  {
   "cell_type": "code",
   "execution_count": 223,
   "id": "472b2333-7b59-4342-a5cc-27f20f87eee8",
   "metadata": {},
   "outputs": [],
   "source": [
    "df['tpep_pickup_datetime'] = pd.to_datetime(df['tpep_pickup_datetime'])"
   ]
  },
  {
   "cell_type": "code",
   "execution_count": 224,
   "id": "38e397fb-97e8-437c-9266-1fa77f03295f",
   "metadata": {},
   "outputs": [],
   "source": [
    "df['tpep_dropoff_datetime'] = pd.to_datetime(df['tpep_dropoff_datetime'])"
   ]
  },
  {
   "cell_type": "code",
   "execution_count": 229,
   "id": "6f2d1fba-f451-4894-b29a-d07ce1fee61c",
   "metadata": {},
   "outputs": [],
   "source": [
    "df['duration_mins'] = (df['tpep_dropoff_datetime'] - df['tpep_pickup_datetime']).dt.total_seconds()/60"
   ]
  },
  {
   "cell_type": "code",
   "execution_count": 231,
   "id": "2cb4cadd-5903-4914-b4a5-24649a56f84e",
   "metadata": {},
   "outputs": [],
   "source": [
    "df['fare_amount'] = df['fare_amount'].astype('int64')"
   ]
  },
  {
   "cell_type": "markdown",
   "id": "a230f4c1-5712-4764-a4d1-706364eab878",
   "metadata": {},
   "source": [
    "# perform Analysis for required columns only"
   ]
  },
  {
   "cell_type": "code",
   "execution_count": 232,
   "id": "e12188b1-a260-4489-899a-2064e32c5867",
   "metadata": {},
   "outputs": [],
   "source": [
    "df1 = df[['passenger_count','trip_distance','payment_type','fare_amount','duration_mins']]"
   ]
  },
  {
   "cell_type": "code",
   "execution_count": 259,
   "id": "619c6bf2-d22b-4771-a823-64cffb81b431",
   "metadata": {
    "scrolled": true
   },
   "outputs": [
    {
     "data": {
      "text/plain": [
       "passenger_count    0\n",
       "trip_distance      0\n",
       "payment_type       0\n",
       "fare_amount        0\n",
       "duration_mins      0\n",
       "dtype: int64"
      ]
     },
     "execution_count": 259,
     "metadata": {},
     "output_type": "execute_result"
    }
   ],
   "source": [
    "df1.isna().sum()"
   ]
  },
  {
   "cell_type": "code",
   "execution_count": 260,
   "id": "9befe4a6-4aa7-4e20-8c67-7c6034b57c98",
   "metadata": {},
   "outputs": [
    {
     "data": {
      "text/plain": [
       "0"
      ]
     },
     "execution_count": 260,
     "metadata": {},
     "output_type": "execute_result"
    }
   ],
   "source": [
    "df1.duplicated().sum()"
   ]
  },
  {
   "cell_type": "code",
   "execution_count": 235,
   "id": "bef50a4e-803b-458f-81de-b0853fcdfc3c",
   "metadata": {},
   "outputs": [],
   "source": [
    "df1.drop_duplicates(inplace= True)"
   ]
  },
  {
   "cell_type": "code",
   "execution_count": 236,
   "id": "1541dbb3-3f44-46f2-a563-a9ce00934e58",
   "metadata": {},
   "outputs": [
    {
     "data": {
      "text/plain": [
       "(669274, 5)"
      ]
     },
     "execution_count": 236,
     "metadata": {},
     "output_type": "execute_result"
    }
   ],
   "source": [
    "df1.shape"
   ]
  },
  {
   "cell_type": "code",
   "execution_count": 237,
   "id": "5b50208a-b00c-43ed-932f-ad25bd9a25be",
   "metadata": {},
   "outputs": [
    {
     "data": {
      "text/html": [
       "<div>\n",
       "<style scoped>\n",
       "    .dataframe tbody tr th:only-of-type {\n",
       "        vertical-align: middle;\n",
       "    }\n",
       "\n",
       "    .dataframe tbody tr th {\n",
       "        vertical-align: top;\n",
       "    }\n",
       "\n",
       "    .dataframe thead th {\n",
       "        text-align: right;\n",
       "    }\n",
       "</style>\n",
       "<table border=\"1\" class=\"dataframe\">\n",
       "  <thead>\n",
       "    <tr style=\"text-align: right;\">\n",
       "      <th></th>\n",
       "      <th>trip_distance</th>\n",
       "      <th>fare_amount</th>\n",
       "      <th>passenger_count</th>\n",
       "      <th>payment_type</th>\n",
       "      <th>duration_mins</th>\n",
       "    </tr>\n",
       "  </thead>\n",
       "  <tbody>\n",
       "    <tr>\n",
       "      <th>count</th>\n",
       "      <td>669274.000000</td>\n",
       "      <td>669274.000000</td>\n",
       "      <td>486214.000000</td>\n",
       "      <td>569911.000000</td>\n",
       "      <td>9884.000000</td>\n",
       "    </tr>\n",
       "    <tr>\n",
       "      <th>mean</th>\n",
       "      <td>184.057546</td>\n",
       "      <td>43.769580</td>\n",
       "      <td>2.345652</td>\n",
       "      <td>1.340729</td>\n",
       "      <td>13.495093</td>\n",
       "    </tr>\n",
       "    <tr>\n",
       "      <th>std</th>\n",
       "      <td>4742.249695</td>\n",
       "      <td>1213.738484</td>\n",
       "      <td>1.662497</td>\n",
       "      <td>0.900072</td>\n",
       "      <td>67.555873</td>\n",
       "    </tr>\n",
       "    <tr>\n",
       "      <th>min</th>\n",
       "      <td>0.000000</td>\n",
       "      <td>-758.000000</td>\n",
       "      <td>0.000000</td>\n",
       "      <td>0.000000</td>\n",
       "      <td>0.000000</td>\n",
       "    </tr>\n",
       "    <tr>\n",
       "      <th>25%</th>\n",
       "      <td>4.670000</td>\n",
       "      <td>22.000000</td>\n",
       "      <td>1.000000</td>\n",
       "      <td>1.000000</td>\n",
       "      <td>4.733333</td>\n",
       "    </tr>\n",
       "    <tr>\n",
       "      <th>50%</th>\n",
       "      <td>10.390000</td>\n",
       "      <td>38.000000</td>\n",
       "      <td>2.000000</td>\n",
       "      <td>1.000000</td>\n",
       "      <td>8.116667</td>\n",
       "    </tr>\n",
       "    <tr>\n",
       "      <th>75%</th>\n",
       "      <td>17.200000</td>\n",
       "      <td>56.000000</td>\n",
       "      <td>3.000000</td>\n",
       "      <td>2.000000</td>\n",
       "      <td>13.216667</td>\n",
       "    </tr>\n",
       "    <tr>\n",
       "      <th>max</th>\n",
       "      <td>351613.360000</td>\n",
       "      <td>818283.000000</td>\n",
       "      <td>112.000000</td>\n",
       "      <td>5.000000</td>\n",
       "      <td>1438.233333</td>\n",
       "    </tr>\n",
       "  </tbody>\n",
       "</table>\n",
       "</div>"
      ],
      "text/plain": [
       "       trip_distance    fare_amount  passenger_count   payment_type  \\\n",
       "count  669274.000000  669274.000000    486214.000000  569911.000000   \n",
       "mean      184.057546      43.769580         2.345652       1.340729   \n",
       "std      4742.249695    1213.738484         1.662497       0.900072   \n",
       "min         0.000000    -758.000000         0.000000       0.000000   \n",
       "25%         4.670000      22.000000         1.000000       1.000000   \n",
       "50%        10.390000      38.000000         2.000000       1.000000   \n",
       "75%        17.200000      56.000000         3.000000       2.000000   \n",
       "max    351613.360000  818283.000000       112.000000       5.000000   \n",
       "\n",
       "       duration_mins  \n",
       "count    9884.000000  \n",
       "mean       13.495093  \n",
       "std        67.555873  \n",
       "min         0.000000  \n",
       "25%         4.733333  \n",
       "50%         8.116667  \n",
       "75%        13.216667  \n",
       "max      1438.233333  "
      ]
     },
     "execution_count": 237,
     "metadata": {},
     "output_type": "execute_result"
    }
   ],
   "source": [
    "df1[['trip_distance','fare_amount','passenger_count','payment_type','duration_mins']].describe()"
   ]
  },
  {
   "cell_type": "code",
   "execution_count": 238,
   "id": "8eba864f-5e01-4fb1-86b4-dba320003c37",
   "metadata": {},
   "outputs": [
    {
     "data": {
      "text/plain": [
       "passenger_count\n",
       "1.0      0.410751\n",
       "2.0      0.209064\n",
       "3.0      0.117944\n",
       "5.0      0.082836\n",
       "4.0      0.081456\n",
       "6.0      0.070115\n",
       "0.0      0.027597\n",
       "7.0      0.000101\n",
       "8.0      0.000072\n",
       "9.0      0.000060\n",
       "112.0    0.000002\n",
       "96.0     0.000002\n",
       "Name: proportion, dtype: float64"
      ]
     },
     "execution_count": 238,
     "metadata": {},
     "output_type": "execute_result"
    }
   ],
   "source": [
    "df1['passenger_count'].value_counts(normalize=True)"
   ]
  },
  {
   "cell_type": "code",
   "execution_count": 239,
   "id": "f94bc02f-f3fc-4b31-bca5-3a288a4f2ce4",
   "metadata": {},
   "outputs": [
    {
     "data": {
      "text/plain": [
       "payment_type\n",
       "1.0    0.471812\n",
       "2.0    0.314688\n",
       "0.0    0.146860\n",
       "4.0    0.039606\n",
       "3.0    0.027027\n",
       "5.0    0.000007\n",
       "Name: proportion, dtype: float64"
      ]
     },
     "execution_count": 239,
     "metadata": {},
     "output_type": "execute_result"
    }
   ],
   "source": [
    "df1['payment_type'].value_counts(normalize=True)"
   ]
  },
  {
   "cell_type": "code",
   "execution_count": 240,
   "id": "5647d90d-1ce2-4b48-a1fd-e856dca35892",
   "metadata": {},
   "outputs": [],
   "source": [
    "df1 = df1[df1['payment_type'] < 3] \n",
    "\n",
    "df1 = df1[ (df1['passenger_count'] > 0) & (df1['passenger_count'] < 6)] "
   ]
  },
  {
   "cell_type": "code",
   "execution_count": 241,
   "id": "c8338aa2-a280-4f08-b035-5a3aedaae6c6",
   "metadata": {},
   "outputs": [],
   "source": [
    "df1['payment_type'].replace([1,2], ['card','cash'], inplace= True)"
   ]
  },
  {
   "cell_type": "code",
   "execution_count": 242,
   "id": "07a236b8-9ca1-4c0d-9c47-f3c7d7ff7708",
   "metadata": {},
   "outputs": [],
   "source": [
    "df1 = df1[df1['fare_amount'] > 0]\n",
    "\n",
    "df1 = df1[df1['duration_mins'] > 0]\n",
    "\n",
    "df1 = df1[df1['trip_distance'] > 0]"
   ]
  },
  {
   "cell_type": "code",
   "execution_count": 243,
   "id": "7b3cbff5-2cfa-4230-8cb3-c055ddabbf3f",
   "metadata": {
    "scrolled": true
   },
   "outputs": [
    {
     "data": {
      "text/html": [
       "<div>\n",
       "<style scoped>\n",
       "    .dataframe tbody tr th:only-of-type {\n",
       "        vertical-align: middle;\n",
       "    }\n",
       "\n",
       "    .dataframe tbody tr th {\n",
       "        vertical-align: top;\n",
       "    }\n",
       "\n",
       "    .dataframe thead th {\n",
       "        text-align: right;\n",
       "    }\n",
       "</style>\n",
       "<table border=\"1\" class=\"dataframe\">\n",
       "  <thead>\n",
       "    <tr style=\"text-align: right;\">\n",
       "      <th></th>\n",
       "      <th>passenger_count</th>\n",
       "      <th>trip_distance</th>\n",
       "      <th>fare_amount</th>\n",
       "      <th>duration_mins</th>\n",
       "    </tr>\n",
       "  </thead>\n",
       "  <tbody>\n",
       "    <tr>\n",
       "      <th>count</th>\n",
       "      <td>9062.000000</td>\n",
       "      <td>9062.000000</td>\n",
       "      <td>9062.000000</td>\n",
       "      <td>9062.000000</td>\n",
       "    </tr>\n",
       "    <tr>\n",
       "      <th>mean</th>\n",
       "      <td>1.426837</td>\n",
       "      <td>3.187024</td>\n",
       "      <td>11.670823</td>\n",
       "      <td>13.515742</td>\n",
       "    </tr>\n",
       "    <tr>\n",
       "      <th>std</th>\n",
       "      <td>0.878252</td>\n",
       "      <td>3.606987</td>\n",
       "      <td>10.184292</td>\n",
       "      <td>67.538616</td>\n",
       "    </tr>\n",
       "    <tr>\n",
       "      <th>min</th>\n",
       "      <td>1.000000</td>\n",
       "      <td>0.010000</td>\n",
       "      <td>2.000000</td>\n",
       "      <td>0.033333</td>\n",
       "    </tr>\n",
       "    <tr>\n",
       "      <th>25%</th>\n",
       "      <td>1.000000</td>\n",
       "      <td>1.100000</td>\n",
       "      <td>6.000000</td>\n",
       "      <td>4.866667</td>\n",
       "    </tr>\n",
       "    <tr>\n",
       "      <th>50%</th>\n",
       "      <td>1.000000</td>\n",
       "      <td>2.000000</td>\n",
       "      <td>8.000000</td>\n",
       "      <td>8.166667</td>\n",
       "    </tr>\n",
       "    <tr>\n",
       "      <th>75%</th>\n",
       "      <td>2.000000</td>\n",
       "      <td>3.700000</td>\n",
       "      <td>13.000000</td>\n",
       "      <td>13.162500</td>\n",
       "    </tr>\n",
       "    <tr>\n",
       "      <th>max</th>\n",
       "      <td>5.000000</td>\n",
       "      <td>45.920000</td>\n",
       "      <td>121.000000</td>\n",
       "      <td>1438.233333</td>\n",
       "    </tr>\n",
       "  </tbody>\n",
       "</table>\n",
       "</div>"
      ],
      "text/plain": [
       "       passenger_count  trip_distance  fare_amount  duration_mins\n",
       "count      9062.000000    9062.000000  9062.000000    9062.000000\n",
       "mean          1.426837       3.187024    11.670823      13.515742\n",
       "std           0.878252       3.606987    10.184292      67.538616\n",
       "min           1.000000       0.010000     2.000000       0.033333\n",
       "25%           1.000000       1.100000     6.000000       4.866667\n",
       "50%           1.000000       2.000000     8.000000       8.166667\n",
       "75%           2.000000       3.700000    13.000000      13.162500\n",
       "max           5.000000      45.920000   121.000000    1438.233333"
      ]
     },
     "execution_count": 243,
     "metadata": {},
     "output_type": "execute_result"
    }
   ],
   "source": [
    "df1.describe()"
   ]
  },
  {
   "cell_type": "markdown",
   "id": "6bd87b6c-b1c9-4cc1-97cf-51d97237b9b7",
   "metadata": {},
   "source": [
    "## Remove Outliers using IQR"
   ]
  },
  {
   "cell_type": "code",
   "execution_count": 244,
   "id": "c5373040-3393-4d46-9e66-3ab3d20bd685",
   "metadata": {},
   "outputs": [],
   "source": [
    "for i in ['trip_distance','fare_amount','duration_mins']:\n",
    "    q1 = df1[i].quantile(0.25)\n",
    "    q3 = df1[i].quantile(0.75)\n",
    "    iqr = q3-q1\n",
    "    \n",
    "    lower_bound = q1-(1.5*iqr)\n",
    "    upper_bound = q3+(1.5*iqr)"
   ]
  },
  {
   "cell_type": "code",
   "execution_count": 245,
   "id": "cef31ac6-0ec7-4040-bb0a-f0450cab62de",
   "metadata": {},
   "outputs": [
    {
     "data": {
      "text/plain": [
       "(-7.577083333333335, 25.606250000000003)"
      ]
     },
     "execution_count": 245,
     "metadata": {},
     "output_type": "execute_result"
    }
   ],
   "source": [
    "lower_bound, upper_bound"
   ]
  },
  {
   "cell_type": "code",
   "execution_count": 246,
   "id": "f6f4ea51-0aaa-4e05-a7a5-fdbe82ed337b",
   "metadata": {},
   "outputs": [],
   "source": [
    "df1 = df1[(df1[i] >= lower_bound) & (df1[i] <= upper_bound)]"
   ]
  },
  {
   "cell_type": "code",
   "execution_count": 247,
   "id": "03579570-f065-4bdb-b5c4-d6667cd069cf",
   "metadata": {},
   "outputs": [
    {
     "data": {
      "text/html": [
       "<div>\n",
       "<style scoped>\n",
       "    .dataframe tbody tr th:only-of-type {\n",
       "        vertical-align: middle;\n",
       "    }\n",
       "\n",
       "    .dataframe tbody tr th {\n",
       "        vertical-align: top;\n",
       "    }\n",
       "\n",
       "    .dataframe thead th {\n",
       "        text-align: right;\n",
       "    }\n",
       "</style>\n",
       "<table border=\"1\" class=\"dataframe\">\n",
       "  <thead>\n",
       "    <tr style=\"text-align: right;\">\n",
       "      <th></th>\n",
       "      <th>passenger_count</th>\n",
       "      <th>trip_distance</th>\n",
       "      <th>fare_amount</th>\n",
       "      <th>duration_mins</th>\n",
       "    </tr>\n",
       "  </thead>\n",
       "  <tbody>\n",
       "    <tr>\n",
       "      <th>count</th>\n",
       "      <td>8634.000000</td>\n",
       "      <td>8634.000000</td>\n",
       "      <td>8634.000000</td>\n",
       "      <td>8634.000000</td>\n",
       "    </tr>\n",
       "    <tr>\n",
       "      <th>mean</th>\n",
       "      <td>1.423095</td>\n",
       "      <td>2.693253</td>\n",
       "      <td>10.272875</td>\n",
       "      <td>8.987458</td>\n",
       "    </tr>\n",
       "    <tr>\n",
       "      <th>std</th>\n",
       "      <td>0.873529</td>\n",
       "      <td>2.520616</td>\n",
       "      <td>7.316567</td>\n",
       "      <td>5.476436</td>\n",
       "    </tr>\n",
       "    <tr>\n",
       "      <th>min</th>\n",
       "      <td>1.000000</td>\n",
       "      <td>0.010000</td>\n",
       "      <td>2.000000</td>\n",
       "      <td>0.033333</td>\n",
       "    </tr>\n",
       "    <tr>\n",
       "      <th>25%</th>\n",
       "      <td>1.000000</td>\n",
       "      <td>1.090000</td>\n",
       "      <td>6.000000</td>\n",
       "      <td>4.716667</td>\n",
       "    </tr>\n",
       "    <tr>\n",
       "      <th>50%</th>\n",
       "      <td>1.000000</td>\n",
       "      <td>1.900000</td>\n",
       "      <td>8.000000</td>\n",
       "      <td>7.825000</td>\n",
       "    </tr>\n",
       "    <tr>\n",
       "      <th>75%</th>\n",
       "      <td>2.000000</td>\n",
       "      <td>3.340000</td>\n",
       "      <td>12.000000</td>\n",
       "      <td>12.216667</td>\n",
       "    </tr>\n",
       "    <tr>\n",
       "      <th>max</th>\n",
       "      <td>5.000000</td>\n",
       "      <td>20.350000</td>\n",
       "      <td>105.000000</td>\n",
       "      <td>25.566667</td>\n",
       "    </tr>\n",
       "  </tbody>\n",
       "</table>\n",
       "</div>"
      ],
      "text/plain": [
       "       passenger_count  trip_distance  fare_amount  duration_mins\n",
       "count      8634.000000    8634.000000  8634.000000    8634.000000\n",
       "mean          1.423095       2.693253    10.272875       8.987458\n",
       "std           0.873529       2.520616     7.316567       5.476436\n",
       "min           1.000000       0.010000     2.000000       0.033333\n",
       "25%           1.000000       1.090000     6.000000       4.716667\n",
       "50%           1.000000       1.900000     8.000000       7.825000\n",
       "75%           2.000000       3.340000    12.000000      12.216667\n",
       "max           5.000000      20.350000   105.000000      25.566667"
      ]
     },
     "execution_count": 247,
     "metadata": {},
     "output_type": "execute_result"
    }
   ],
   "source": [
    "df1.describe()"
   ]
  },
  {
   "cell_type": "code",
   "execution_count": 248,
   "id": "d13c029c-c8f9-444d-8396-d1cdbd62c1ab",
   "metadata": {},
   "outputs": [
    {
     "data": {
      "image/png": "[encoded data removed]",
      "text/plain": [
       "<Figure size 1200x400 with 2 Axes>"
      ]
     },
     "metadata": {},
     "output_type": "display_data"
    }
   ],
   "source": [
    "plt.figure(figsize=(12,4))\n",
    "plt.subplot(1,2,1)\n",
    "plt.title('Distribution of fare Amount')\n",
    "plt.hist(df1[df1['payment_type'] == 'cash']['fare_amount'], histtype = 'barstacked', bins = 20, edgecolor = 'k', color = '#67C090', label = 'cash') \n",
    "plt.hist(df1[df1['payment_type'] == 'card']['fare_amount'], histtype = 'barstacked', bins = 20, edgecolor = 'k', color = '#124170', label = 'card')\n",
    "plt.legend()\n",
    "\n",
    "plt.subplot(1,2,2)\n",
    "plt.title('Distribution of trip distance')\n",
    "plt.hist(df1[df1['payment_type'] == 'cash']['trip_distance'], histtype = 'barstacked', bins = 20, edgecolor = 'k', color = '#67C090', label = 'cash') \n",
    "plt.hist(df1[df1['payment_type'] == 'card']['trip_distance'], histtype = 'barstacked', bins = 20, edgecolor = 'k', color = '#124170', label = 'card')\n",
    "plt.legend()\n",
    "\n",
    "plt.tight_layout()\n",
    "plt.show()"
   ]
  },
  {
   "cell_type": "code",
   "execution_count": 249,
   "id": "bc50be38-54bc-414b-a1c3-6b12973dbbcd",
   "metadata": {},
   "outputs": [
    {
     "data": {
      "text/html": [
       "<div>\n",
       "<style scoped>\n",
       "    .dataframe tbody tr th:only-of-type {\n",
       "        vertical-align: middle;\n",
       "    }\n",
       "\n",
       "    .dataframe tbody tr th {\n",
       "        vertical-align: top;\n",
       "    }\n",
       "\n",
       "    .dataframe thead tr th {\n",
       "        text-align: left;\n",
       "    }\n",
       "\n",
       "    .dataframe thead tr:last-of-type th {\n",
       "        text-align: right;\n",
       "    }\n",
       "</style>\n",
       "<table border=\"1\" class=\"dataframe\">\n",
       "  <thead>\n",
       "    <tr>\n",
       "      <th></th>\n",
       "      <th colspan=\"2\" halign=\"left\">fare_amount</th>\n",
       "      <th colspan=\"2\" halign=\"left\">trip_distance</th>\n",
       "    </tr>\n",
       "    <tr>\n",
       "      <th></th>\n",
       "      <th>mean</th>\n",
       "      <th>std</th>\n",
       "      <th>mean</th>\n",
       "      <th>std</th>\n",
       "    </tr>\n",
       "    <tr>\n",
       "      <th>payment_type</th>\n",
       "      <th></th>\n",
       "      <th></th>\n",
       "      <th></th>\n",
       "      <th></th>\n",
       "    </tr>\n",
       "  </thead>\n",
       "  <tbody>\n",
       "    <tr>\n",
       "      <th>card</th>\n",
       "      <td>10.245565</td>\n",
       "      <td>7.184628</td>\n",
       "      <td>2.685776</td>\n",
       "      <td>2.478333</td>\n",
       "    </tr>\n",
       "    <tr>\n",
       "      <th>cash</th>\n",
       "      <td>10.325740</td>\n",
       "      <td>7.566394</td>\n",
       "      <td>2.707729</td>\n",
       "      <td>2.600880</td>\n",
       "    </tr>\n",
       "  </tbody>\n",
       "</table>\n",
       "</div>"
      ],
      "text/plain": [
       "             fare_amount           trip_distance          \n",
       "                    mean       std          mean       std\n",
       "payment_type                                              \n",
       "card           10.245565  7.184628      2.685776  2.478333\n",
       "cash           10.325740  7.566394      2.707729  2.600880"
      ]
     },
     "execution_count": 249,
     "metadata": {},
     "output_type": "execute_result"
    }
   ],
   "source": [
    "df1.groupby('payment_type').agg({'fare_amount' : ['mean','std'], 'trip_distance' : ['mean','std']})"
   ]
  },
  {
   "cell_type": "code",
   "execution_count": 250,
   "id": "b9ed3e22-e57e-4148-bd88-608d5472e412",
   "metadata": {},
   "outputs": [
    {
     "data": {
      "text/plain": [
       "payment_type\n",
       "card    0.65937\n",
       "cash    0.34063\n",
       "Name: proportion, dtype: float64"
      ]
     },
     "execution_count": 250,
     "metadata": {},
     "output_type": "execute_result"
    }
   ],
   "source": [
    "pie_data  = df1['payment_type'].value_counts(normalize=True)\n",
    "pie_data"
   ]
  },
  {
   "cell_type": "code",
   "execution_count": 251,
   "id": "92fed25a-2da2-4731-8c71-7d27608feb74",
   "metadata": {
    "scrolled": true
   },
   "outputs": [
    {
     "data": {
      "image/png": "[encoded data removed]",
      "text/plain": [
       "<Figure size 1000x400 with 1 Axes>"
      ]
     },
     "metadata": {},
     "output_type": "display_data"
    }
   ],
   "source": [
    "plt.figure(figsize=(10,4))\n",
    "\n",
    "plt.pie(pie_data, labels = pie_data.index, autopct= '%1.1f%%', startangle= 90, shadow= True, colors = ['#124170','#67C090'])\n",
    "plt.title('Perference of Payment Type', fontsize = 12)\n",
    "\n",
    "plt.legend()\n",
    "plt.show()"
   ]
  },
  {
   "cell_type": "code",
   "execution_count": 252,
   "id": "cf778b58-441a-4769-bd7c-d1c915032d42",
   "metadata": {},
   "outputs": [
    {
     "data": {
      "text/html": [
       "<div>\n",
       "<style scoped>\n",
       "    .dataframe tbody tr th:only-of-type {\n",
       "        vertical-align: middle;\n",
       "    }\n",
       "\n",
       "    .dataframe tbody tr th {\n",
       "        vertical-align: top;\n",
       "    }\n",
       "\n",
       "    .dataframe thead th {\n",
       "        text-align: right;\n",
       "    }\n",
       "</style>\n",
       "<table border=\"1\" class=\"dataframe\">\n",
       "  <thead>\n",
       "    <tr style=\"text-align: right;\">\n",
       "      <th></th>\n",
       "      <th>passenger_count</th>\n",
       "      <th>trip_distance</th>\n",
       "      <th>payment_type</th>\n",
       "      <th>fare_amount</th>\n",
       "      <th>duration_mins</th>\n",
       "    </tr>\n",
       "  </thead>\n",
       "  <tbody>\n",
       "    <tr>\n",
       "      <th>0</th>\n",
       "      <td>1.0</td>\n",
       "      <td>2.10</td>\n",
       "      <td>cash</td>\n",
       "      <td>8</td>\n",
       "      <td>6.033333</td>\n",
       "    </tr>\n",
       "    <tr>\n",
       "      <th>1</th>\n",
       "      <td>1.0</td>\n",
       "      <td>0.20</td>\n",
       "      <td>cash</td>\n",
       "      <td>3</td>\n",
       "      <td>0.983333</td>\n",
       "    </tr>\n",
       "    <tr>\n",
       "      <th>4</th>\n",
       "      <td>1.0</td>\n",
       "      <td>4.94</td>\n",
       "      <td>card</td>\n",
       "      <td>16</td>\n",
       "      <td>16.533333</td>\n",
       "    </tr>\n",
       "    <tr>\n",
       "      <th>5</th>\n",
       "      <td>1.0</td>\n",
       "      <td>1.60</td>\n",
       "      <td>card</td>\n",
       "      <td>8</td>\n",
       "      <td>8.016667</td>\n",
       "    </tr>\n",
       "    <tr>\n",
       "      <th>6</th>\n",
       "      <td>1.0</td>\n",
       "      <td>4.10</td>\n",
       "      <td>cash</td>\n",
       "      <td>16</td>\n",
       "      <td>17.000000</td>\n",
       "    </tr>\n",
       "    <tr>\n",
       "      <th>...</th>\n",
       "      <td>...</td>\n",
       "      <td>...</td>\n",
       "      <td>...</td>\n",
       "      <td>...</td>\n",
       "      <td>...</td>\n",
       "    </tr>\n",
       "    <tr>\n",
       "      <th>9995</th>\n",
       "      <td>1.0</td>\n",
       "      <td>4.87</td>\n",
       "      <td>cash</td>\n",
       "      <td>15</td>\n",
       "      <td>14.383333</td>\n",
       "    </tr>\n",
       "    <tr>\n",
       "      <th>9996</th>\n",
       "      <td>1.0</td>\n",
       "      <td>1.60</td>\n",
       "      <td>cash</td>\n",
       "      <td>8</td>\n",
       "      <td>8.033333</td>\n",
       "    </tr>\n",
       "    <tr>\n",
       "      <th>9997</th>\n",
       "      <td>1.0</td>\n",
       "      <td>0.54</td>\n",
       "      <td>card</td>\n",
       "      <td>4</td>\n",
       "      <td>2.116667</td>\n",
       "    </tr>\n",
       "    <tr>\n",
       "      <th>9998</th>\n",
       "      <td>1.0</td>\n",
       "      <td>2.77</td>\n",
       "      <td>card</td>\n",
       "      <td>11</td>\n",
       "      <td>10.783333</td>\n",
       "    </tr>\n",
       "    <tr>\n",
       "      <th>9999</th>\n",
       "      <td>2.0</td>\n",
       "      <td>1.71</td>\n",
       "      <td>card</td>\n",
       "      <td>7</td>\n",
       "      <td>5.883333</td>\n",
       "    </tr>\n",
       "  </tbody>\n",
       "</table>\n",
       "<p>8634 rows × 5 columns</p>\n",
       "</div>"
      ],
      "text/plain": [
       "      passenger_count  trip_distance payment_type  fare_amount  duration_mins\n",
       "0                 1.0           2.10         cash            8       6.033333\n",
       "1                 1.0           0.20         cash            3       0.983333\n",
       "4                 1.0           4.94         card           16      16.533333\n",
       "5                 1.0           1.60         card            8       8.016667\n",
       "6                 1.0           4.10         cash           16      17.000000\n",
       "...               ...            ...          ...          ...            ...\n",
       "9995              1.0           4.87         cash           15      14.383333\n",
       "9996              1.0           1.60         cash            8       8.033333\n",
       "9997              1.0           0.54         card            4       2.116667\n",
       "9998              1.0           2.77         card           11      10.783333\n",
       "9999              2.0           1.71         card            7       5.883333\n",
       "\n",
       "[8634 rows x 5 columns]"
      ]
     },
     "execution_count": 252,
     "metadata": {},
     "output_type": "execute_result"
    }
   ],
   "source": [
    "df1"
   ]
  },
  {
   "cell_type": "code",
   "execution_count": 253,
   "id": "f1776355-7c7c-4ceb-8cca-89f1173c7ee0",
   "metadata": {},
   "outputs": [
    {
     "data": {
      "text/html": [
       "<div>\n",
       "<style scoped>\n",
       "    .dataframe tbody tr th:only-of-type {\n",
       "        vertical-align: middle;\n",
       "    }\n",
       "\n",
       "    .dataframe tbody tr th {\n",
       "        vertical-align: top;\n",
       "    }\n",
       "\n",
       "    .dataframe thead th {\n",
       "        text-align: right;\n",
       "    }\n",
       "</style>\n",
       "<table border=\"1\" class=\"dataframe\">\n",
       "  <thead>\n",
       "    <tr style=\"text-align: right;\">\n",
       "      <th></th>\n",
       "      <th>payment_type</th>\n",
       "      <th>passenger_count</th>\n",
       "      <th>count</th>\n",
       "      <th>perc_count</th>\n",
       "    </tr>\n",
       "  </thead>\n",
       "  <tbody>\n",
       "    <tr>\n",
       "      <th>0</th>\n",
       "      <td>card</td>\n",
       "      <td>1.0</td>\n",
       "      <td>4163</td>\n",
       "      <td>48.216354</td>\n",
       "    </tr>\n",
       "    <tr>\n",
       "      <th>1</th>\n",
       "      <td>card</td>\n",
       "      <td>2.0</td>\n",
       "      <td>982</td>\n",
       "      <td>11.373639</td>\n",
       "    </tr>\n",
       "    <tr>\n",
       "      <th>2</th>\n",
       "      <td>card</td>\n",
       "      <td>3.0</td>\n",
       "      <td>282</td>\n",
       "      <td>3.266157</td>\n",
       "    </tr>\n",
       "    <tr>\n",
       "      <th>3</th>\n",
       "      <td>card</td>\n",
       "      <td>4.0</td>\n",
       "      <td>116</td>\n",
       "      <td>1.343526</td>\n",
       "    </tr>\n",
       "    <tr>\n",
       "      <th>4</th>\n",
       "      <td>card</td>\n",
       "      <td>5.0</td>\n",
       "      <td>150</td>\n",
       "      <td>1.737318</td>\n",
       "    </tr>\n",
       "    <tr>\n",
       "      <th>5</th>\n",
       "      <td>cash</td>\n",
       "      <td>1.0</td>\n",
       "      <td>2237</td>\n",
       "      <td>25.909196</td>\n",
       "    </tr>\n",
       "    <tr>\n",
       "      <th>6</th>\n",
       "      <td>cash</td>\n",
       "      <td>2.0</td>\n",
       "      <td>437</td>\n",
       "      <td>5.061385</td>\n",
       "    </tr>\n",
       "    <tr>\n",
       "      <th>7</th>\n",
       "      <td>cash</td>\n",
       "      <td>3.0</td>\n",
       "      <td>146</td>\n",
       "      <td>1.690989</td>\n",
       "    </tr>\n",
       "    <tr>\n",
       "      <th>8</th>\n",
       "      <td>cash</td>\n",
       "      <td>4.0</td>\n",
       "      <td>54</td>\n",
       "      <td>0.625434</td>\n",
       "    </tr>\n",
       "    <tr>\n",
       "      <th>9</th>\n",
       "      <td>cash</td>\n",
       "      <td>5.0</td>\n",
       "      <td>67</td>\n",
       "      <td>0.776002</td>\n",
       "    </tr>\n",
       "  </tbody>\n",
       "</table>\n",
       "</div>"
      ],
      "text/plain": [
       "  payment_type  passenger_count  count  perc_count\n",
       "0         card              1.0   4163   48.216354\n",
       "1         card              2.0    982   11.373639\n",
       "2         card              3.0    282    3.266157\n",
       "3         card              4.0    116    1.343526\n",
       "4         card              5.0    150    1.737318\n",
       "5         cash              1.0   2237   25.909196\n",
       "6         cash              2.0    437    5.061385\n",
       "7         cash              3.0    146    1.690989\n",
       "8         cash              4.0     54    0.625434\n",
       "9         cash              5.0     67    0.776002"
      ]
     },
     "execution_count": 253,
     "metadata": {},
     "output_type": "execute_result"
    }
   ],
   "source": [
    "grouped_passenger_count = df1.groupby(['payment_type','passenger_count'])[['passenger_count']].count()\n",
    "grouped_passenger_count = grouped_passenger_count.rename(columns={'passenger_count':'count'})\n",
    "grouped_passenger_count = grouped_passenger_count.reset_index()\n",
    "grouped_passenger_count['perc_count'] = grouped_passenger_count['count'] / (grouped_passenger_count['count'].sum())*100\n",
    "\n",
    "grouped_passenger_count"
   ]
  },
  {
   "cell_type": "code",
   "execution_count": 254,
   "id": "a79b487f-9d82-4164-a4c7-425b28039a15",
   "metadata": {},
   "outputs": [],
   "source": [
    "pivot = grouped_passenger_count.pivot_table(\n",
    "    values=\"perc_count\",\n",
    "    index=\"payment_type\",\n",
    "    columns=\"passenger_count\"\n",
    ").reset_index()\n"
   ]
  },
  {
   "cell_type": "code",
   "execution_count": 255,
   "id": "bd64e99b-9938-4314-bae6-c85cdb885fd6",
   "metadata": {},
   "outputs": [],
   "source": [
    "pivot.columns.name = None"
   ]
  },
  {
   "cell_type": "code",
   "execution_count": 256,
   "id": "30048221-034e-466b-8ea4-9458a2bed399",
   "metadata": {},
   "outputs": [
    {
     "data": {
      "text/html": [
       "<div>\n",
       "<style scoped>\n",
       "    .dataframe tbody tr th:only-of-type {\n",
       "        vertical-align: middle;\n",
       "    }\n",
       "\n",
       "    .dataframe tbody tr th {\n",
       "        vertical-align: top;\n",
       "    }\n",
       "\n",
       "    .dataframe thead th {\n",
       "        text-align: right;\n",
       "    }\n",
       "</style>\n",
       "<table border=\"1\" class=\"dataframe\">\n",
       "  <thead>\n",
       "    <tr style=\"text-align: right;\">\n",
       "      <th></th>\n",
       "      <th>payment_type</th>\n",
       "      <th>1.0</th>\n",
       "      <th>2.0</th>\n",
       "      <th>3.0</th>\n",
       "      <th>4.0</th>\n",
       "      <th>5.0</th>\n",
       "    </tr>\n",
       "  </thead>\n",
       "  <tbody>\n",
       "    <tr>\n",
       "      <th>0</th>\n",
       "      <td>card</td>\n",
       "      <td>48.216354</td>\n",
       "      <td>11.373639</td>\n",
       "      <td>3.266157</td>\n",
       "      <td>1.343526</td>\n",
       "      <td>1.737318</td>\n",
       "    </tr>\n",
       "    <tr>\n",
       "      <th>1</th>\n",
       "      <td>cash</td>\n",
       "      <td>25.909196</td>\n",
       "      <td>5.061385</td>\n",
       "      <td>1.690989</td>\n",
       "      <td>0.625434</td>\n",
       "      <td>0.776002</td>\n",
       "    </tr>\n",
       "  </tbody>\n",
       "</table>\n",
       "</div>"
      ],
      "text/plain": [
       "  payment_type        1.0        2.0       3.0       4.0       5.0\n",
       "0         card  48.216354  11.373639  3.266157  1.343526  1.737318\n",
       "1         cash  25.909196   5.061385  1.690989  0.625434  0.776002"
      ]
     },
     "execution_count": 256,
     "metadata": {},
     "output_type": "execute_result"
    }
   ],
   "source": [
    "pivot"
   ]
  },
  {
   "cell_type": "code",
   "execution_count": 262,
   "id": "c4cbc137-a9ff-49af-868c-766d769b3407",
   "metadata": {
    "scrolled": true
   },
   "outputs": [
    {
     "data": {
      "text/plain": [
       "<Figure size 1000x200 with 0 Axes>"
      ]
     },
     "metadata": {},
     "output_type": "display_data"
    },
    {
     "data": {
      "image/png": "[encoded data removed]",
      "text/plain": [
       "<Figure size 2000x500 with 1 Axes>"
      ]
     },
     "metadata": {},
     "output_type": "display_data"
    }
   ],
   "source": [
    "plt.figure(figsize=(10,2))\n",
    "\n",
    "ax = pivot.plot(x='payment_type', kind='barh', stacked=True, figsize=(20,5), color = ['#9A3F3F','#C1856D','#647FBC','#A8BBA3','#AED6CF'])\n",
    "\n",
    "for container in ax.containers:\n",
    "    labels = []\n",
    "    for v in container.datavalues:\n",
    "        if v > 2:   # show label only if value > 2 (tune threshold as needed)\n",
    "            labels.append(f\"{v:.1f}%\")\n",
    "        else:\n",
    "            labels.append(\"\")  # skip small values\n",
    "    ax.bar_label(container, labels=labels, label_type='center', fontsize=12, color='black')\n",
    "\n",
    "plt.tight_layout()\n",
    "plt.show()"
   ]
  },
  {
   "cell_type": "markdown",
   "id": "7492ba08-f45f-4c0f-8752-99d43d88d67e",
   "metadata": {},
   "source": [
    "# Hypothesis testing"
   ]
  },
  {
   "cell_type": "raw",
   "id": "14042437-6e90-4ef4-91e2-fdc32b1f0e3a",
   "metadata": {},
   "source": [
    "Null Hypothesis -->> There is no difference in avg fare amount between customer who use cards or cash\n",
    "Alternate hypothesis -->> There is difference in avg fare amount between customer who use cards or cash"
   ]
  },
  {
   "cell_type": "raw",
   "id": "00622115-50a9-4f39-9d13-27cda2b865af",
   "metadata": {},
   "source": [
    "ANOVA ❌ -->>\n",
    "        performed on 3 or more groups, in our case we have only 2 groups\n",
    "\n",
    "chi square ❌ -->>\n",
    "        fare_amount is continuous variable \n",
    "\n",
    "Z test ❌ -->> \n",
    "        performed on large sample n > 30\n",
    "        where population standard normal distribution is known, since we have removed some data in our analysis.\n",
    "        where data is normally distributed\n",
    "\n",
    "t-test ✅✔️ -->>\n",
    "        where population standard normal distribution is unknown\n",
    "        data does not follows normality\n",
    "\n",
    "to check normality, we use QQ(Quantile Quantile) plot \n",
    "        "
   ]
  },
  {
   "cell_type": "code",
   "execution_count": 267,
   "id": "1d06c057-0ebf-4cc8-bd26-34e10e61a122",
   "metadata": {},
   "outputs": [
    {
     "data": {
      "text/plain": [
       "<Figure size 800x400 with 0 Axes>"
      ]
     },
     "metadata": {},
     "output_type": "display_data"
    },
    {
     "data": {
      "image/png": "[encoded data removed]",
      "text/plain": [
       "<Figure size 640x480 with 1 Axes>"
      ]
     },
     "metadata": {},
     "output_type": "display_data"
    }
   ],
   "source": [
    "plt.figure(figsize=(8,4))\n",
    "sm.qqplot(df1['fare_amount'], line= '45')\n",
    "plt.title(\" QQ plot for testing Normality\")\n",
    "\n",
    "plt.show()"
   ]
  },
  {
   "cell_type": "code",
   "execution_count": 270,
   "id": "5a310eff-5fb4-4a5f-906f-bd7e9709f200",
   "metadata": {},
   "outputs": [],
   "source": [
    "card_sample = df1[df1['payment_type'] == 'card']['fare_amount']\n",
    "cash_sample = df1[df1['payment_type'] == 'cash']['fare_amount']"
   ]
  },
  {
   "cell_type": "code",
   "execution_count": 271,
   "id": "e0e5ed3c-d55a-41ba-97f3-a70fb394f7b7",
   "metadata": {},
   "outputs": [],
   "source": [
    "t_stats, p_value = st.ttest_ind(card_sample, cash_sample, equal_var = False)"
   ]
  },
  {
   "cell_type": "code",
   "execution_count": 274,
   "id": "9dad78f7-4c99-4e39-8594-c024c0b39015",
   "metadata": {},
   "outputs": [
    {
     "name": "stdout",
     "output_type": "stream",
     "text": [
      "T-statistics :  -0.47463694153803776 p_value : 0.6350640177005549\n"
     ]
    }
   ],
   "source": [
    "print('T-statistics : ',t_stats, 'p_value :',p_value)"
   ]
  },
  {
   "cell_type": "code",
   "execution_count": 275,
   "id": "ffea3349-8990-4cde-918a-cfaaebd92ced",
   "metadata": {},
   "outputs": [],
   "source": [
    "alpha = 0.05"
   ]
  },
  {
   "cell_type": "code",
   "execution_count": 277,
   "id": "19309a7b-ef5c-4422-9356-50bf11ffa5c3",
   "metadata": {},
   "outputs": [
    {
     "name": "stdout",
     "output_type": "stream",
     "text": [
      "fail to reject hypothesis >> There is difference in avg fare amount between customer who use cards or cash\n"
     ]
    }
   ],
   "source": [
    "if p_value < alpha:\n",
    "    print('Reject Null hypothesis >> There is no difference in avg fare amount between customer who use cards or cash')\n",
    "else:\n",
    "    print('fail to reject hypothesis >> There is difference in avg fare amount between customer who use cards or cash')\n",
    "    "
   ]
  }
 ],
 "metadata": {
  "kernelspec": {
   "display_name": "Python 3 (ipykernel)",
   "language": "python",
   "name": "python3"
  },
  "language_info": {
   "codemirror_mode": {
    "name": "ipython",
    "version": 3
   },
   "file_extension": ".py",
   "mimetype": "text/x-python",
   "name": "python",
   "nbconvert_exporter": "python",
   "pygments_lexer": "ipython3",
   "version": "3.11.7"
  }
 },
 "nbformat": 4,
 "nbformat_minor": 5
}
